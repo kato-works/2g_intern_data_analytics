{
 "cells": [
  {
   "cell_type": "markdown",
   "id": "b2b2893c-1f06-47cf-ad3d-ff347d09ebc1",
   "metadata": {},
   "source": [
    "# データをクレンジングする\n",
    "\n",
    "## 本練習の目的\n",
    "\n",
    "- データのクレンジングについて学ぶ\n",
    "- 異常データを探せるようになる"
   ]
  },
  {
   "cell_type": "code",
   "execution_count": null,
   "id": "978aafe1-f4e7-47a0-81f0-7af9f2ca3290",
   "metadata": {},
   "outputs": [],
   "source": [
    "import pandas as pd\n",
    "\n",
    "# CSVファイルの読み込み\n",
    "file_path = '../data/apartment_for_rent_classified.csv'\n",
    "df = pd.read_csv(file_path)"
   ]
  },
  {
   "cell_type": "code",
   "execution_count": null,
   "id": "36205f9b-c1a1-4752-99b8-279fa0a40695",
   "metadata": {},
   "outputs": [],
   "source": [
    "df.columns"
   ]
  },
  {
   "cell_type": "code",
   "execution_count": null,
   "id": "48bdee67-bee5-4530-9067-1db04d8b5f46",
   "metadata": {},
   "outputs": [],
   "source": [
    "# 本来は数字であるはずのsquare_feetが数値として統計値に出てこない→なにかおかしなデータが混じっている？\n",
    "df.describe()"
   ]
  },
  {
   "cell_type": "code",
   "execution_count": null,
   "id": "9a3ad634-69f7-41b5-b8a7-59d88408135c",
   "metadata": {},
   "outputs": [],
   "source": [
    "# pets_allowed にどのようなデータが含まれるか確認する\n",
    "df['pets_allowed'].value_counts()"
   ]
  },
  {
   "cell_type": "code",
   "execution_count": null,
   "id": "20f2f1f3-fae5-41ac-9ab0-113e4fb6875f",
   "metadata": {},
   "outputs": [],
   "source": [
    "# Monthly, 823はデータがおかしいので消す（きっとずれたが入力ミス）\n",
    "df = df[(df['pets_allowed'] != '823') & (df['pets_allowed'] != 'Monthly')]\n",
    "df['pets_allowed'].value_counts()"
   ]
  },
  {
   "cell_type": "code",
   "execution_count": null,
   "id": "ca0a912f-aa57-4468-a690-0b6af0bb2bd4",
   "metadata": {},
   "outputs": [],
   "source": [
    "# Cats,Dogs,None は、Cats,Dogsに修正\n",
    "df.loc[df['pets_allowed'] == 'Cats,Dogs,None', ['pets_allowed']] = 'Cats,Dogs'\n",
    "df['pets_allowed'].value_counts()"
   ]
  },
  {
   "cell_type": "code",
   "execution_count": null,
   "id": "53f9bc9b-2c26-4458-b15b-b09337d9b4a4",
   "metadata": {},
   "outputs": [],
   "source": [
    "# 家賃が未入力の物件の削除\n",
    "df['price'] = df['price'].fillna(-1)\n",
    "df = df[df['price'] >= 0]"
   ]
  },
  {
   "cell_type": "code",
   "execution_count": null,
   "id": "ae08e2db-ab83-482e-865e-9a64e1131c5e",
   "metadata": {},
   "outputs": [],
   "source": [
    "# price_type が Monthly 以外のものを削除\n",
    "df = df[df['price_type'] == 'Monthly']"
   ]
  },
  {
   "cell_type": "code",
   "execution_count": null,
   "id": "ba9f561f-b15c-4e98-be13-8cd0cb79d3b3",
   "metadata": {},
   "outputs": [],
   "source": [
    "# クレンジングが完了したデータを保存する\n",
    "df.to_csv('../data/cleansed_apartment_data.csv', index=False)"
   ]
  },
  {
   "cell_type": "code",
   "execution_count": null,
   "id": "23b303f8-4b4f-4893-b9a0-e891a7daa11d",
   "metadata": {},
   "outputs": [],
   "source": []
  }
 ],
 "metadata": {
  "kernelspec": {
   "display_name": "Python 3 (ipykernel)",
   "language": "python",
   "name": "python3"
  },
  "language_info": {
   "codemirror_mode": {
    "name": "ipython",
    "version": 3
   },
   "file_extension": ".py",
   "mimetype": "text/x-python",
   "name": "python",
   "nbconvert_exporter": "python",
   "pygments_lexer": "ipython3",
   "version": "3.12.5"
  }
 },
 "nbformat": 4,
 "nbformat_minor": 5
}
