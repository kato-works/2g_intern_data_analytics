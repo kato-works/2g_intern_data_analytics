{
 "cells": [
  {
   "cell_type": "markdown",
   "id": "b4adb264-bf87-4298-9afb-55b257a1c9b7",
   "metadata": {},
   "source": [
    "# データフレームの取り扱いに慣れる\n",
    "\n",
    "## 本練習の目的\n",
    "\n",
    "- Pandas DataFrameの扱いに慣れる\n"
   ]
  },
  {
   "cell_type": "code",
   "execution_count": null,
   "id": "d2fc9448-e09e-4eed-b927-04c27709da64",
   "metadata": {},
   "outputs": [],
   "source": [
    "import pandas as pd\n",
    "\n",
    "# CSVファイルの読み込み\n",
    "file_path = '../data/apartment_for_rent_classified.csv'\n",
    "df = pd.read_csv(file_path)"
   ]
  },
  {
   "cell_type": "code",
   "execution_count": null,
   "id": "a1077fdc-0077-4bd2-8ae0-4f2353bcc451",
   "metadata": {},
   "outputs": [],
   "source": [
    "# 行数の取得\n",
    "len(df)"
   ]
  },
  {
   "cell_type": "code",
   "execution_count": null,
   "id": "80ca44c5-ff04-4be3-a9cb-9c38581c4d3c",
   "metadata": {},
   "outputs": [],
   "source": [
    "# 列の取り出し\n",
    "df['state']"
   ]
  },
  {
   "cell_type": "code",
   "execution_count": null,
   "id": "96b4a182-ba72-4e9d-81d7-40e67e8d661b",
   "metadata": {},
   "outputs": [],
   "source": [
    "# 行の取り出し\n",
    "df.iloc[2]"
   ]
  },
  {
   "cell_type": "code",
   "execution_count": null,
   "id": "7c88b875-81ce-44a8-8770-b4bfd23316fe",
   "metadata": {},
   "outputs": [],
   "source": [
    "# 範囲での行の取り出し\n",
    "df.iloc[10:15]"
   ]
  },
  {
   "cell_type": "code",
   "execution_count": null,
   "id": "e58ec017-15cb-4cea-b35d-b1f6a2d24463",
   "metadata": {},
   "outputs": [],
   "source": [
    "# 行・列指定でのデータの抽出\n",
    "df.iloc[10:15, [0,2,3]]"
   ]
  },
  {
   "cell_type": "code",
   "execution_count": null,
   "id": "6ece64f0-7dc0-45e2-bee1-c767565a2f5e",
   "metadata": {},
   "outputs": [],
   "source": [
    "# ラベルで行・列を指定（ilocではなく、loc）\n",
    "df.loc[10:15, ['state', 'cityname']]"
   ]
  },
  {
   "cell_type": "code",
   "execution_count": null,
   "id": "7d505a55-aee0-4fcc-90f4-c95a4083a7fb",
   "metadata": {},
   "outputs": [],
   "source": [
    "# 列のユニークな値を数える\n",
    "df['state'].value_counts()"
   ]
  },
  {
   "cell_type": "code",
   "execution_count": null,
   "id": "66e47aa0-551c-4683-a1b3-c2fa18428529",
   "metadata": {},
   "outputs": [],
   "source": [
    "# ユニークな値を一覧で取得\n",
    "list(df['state'].value_counts().keys())"
   ]
  },
  {
   "cell_type": "code",
   "execution_count": null,
   "id": "bc772e06-a04e-445b-bd55-87a67fc64db0",
   "metadata": {},
   "outputs": [],
   "source": []
  }
 ],
 "metadata": {
  "kernelspec": {
   "display_name": "Python 3 (ipykernel)",
   "language": "python",
   "name": "python3"
  },
  "language_info": {
   "codemirror_mode": {
    "name": "ipython",
    "version": 3
   },
   "file_extension": ".py",
   "mimetype": "text/x-python",
   "name": "python",
   "nbconvert_exporter": "python",
   "pygments_lexer": "ipython3",
   "version": "3.12.5"
  }
 },
 "nbformat": 4,
 "nbformat_minor": 5
}
