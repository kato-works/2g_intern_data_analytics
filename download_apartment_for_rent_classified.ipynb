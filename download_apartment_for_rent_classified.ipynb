{
 "cells": [
  {
   "cell_type": "markdown",
   "id": "68a22c1c-0541-4e85-b1c8-7a85c8cf74de",
   "metadata": {},
   "source": [
    "# データセットのダウンロード\n",
    "\n",
    "カリフォルニア大学アーバイン校からデータをダウンロードする。\n",
    "（アメリカの賃貸マンションの物件データです。）\n",
    "\n",
    "https://archive.ics.uci.edu/dataset/555/apartment+for+rent+classified\n",
    "\n",
    "ダウンロード先\n",
    "\n",
    "data/apartment_for_rent_classified.csv"
   ]
  },
  {
   "cell_type": "code",
   "execution_count": null,
   "id": "293a717a-da1b-49ef-8c5f-08a092285558",
   "metadata": {},
   "outputs": [],
   "source": [
    "from ucimlrepo import fetch_ucirepo \n",
    "\n",
    "# データのダウンロード先\n",
    "export_path = 'data/apartment_for_rent_classified.csv'\n",
    "\n",
    "# データのダウンロード\n",
    "apartment_for_rent_classified = fetch_ucirepo(id=555) \n",
    "  \n",
    "# Pandas DataFrame型でのデータ取得\n",
    "df = apartment_for_rent_classified.data.features \n",
    "\n",
    "# データフレームの表示\n",
    "display(df)\n",
    "\n",
    "# データのCSV保存\n",
    "df.to_csv(export_path, index=False, quotechar='\"', quoting=csv.QUOTE_MINIMAL)"
   ]
  },
  {
   "cell_type": "code",
   "execution_count": null,
   "id": "93de4e0f-252a-44bb-b331-f0490c5b811a",
   "metadata": {},
   "outputs": [],
   "source": []
  }
 ],
 "metadata": {
  "kernelspec": {
   "display_name": "Python 3 (ipykernel)",
   "language": "python",
   "name": "python3"
  },
  "language_info": {
   "codemirror_mode": {
    "name": "ipython",
    "version": 3
   },
   "file_extension": ".py",
   "mimetype": "text/x-python",
   "name": "python",
   "nbconvert_exporter": "python",
   "pygments_lexer": "ipython3",
   "version": "3.12.5"
  }
 },
 "nbformat": 4,
 "nbformat_minor": 5
}
