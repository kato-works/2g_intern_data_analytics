{
 "cells": [
  {
   "cell_type": "markdown",
   "id": "c2056f1e-4c1f-4e82-be54-f3ae01e1f8cb",
   "metadata": {},
   "source": [
    "# CSVファイルに保存してみる\n",
    "\n",
    "## 本練習の目的\n",
    "\n",
    "- データの保存・ロードを自由に行えるようになる\n",
    "- 様々な保存形式を試してみる"
   ]
  },
  {
   "cell_type": "code",
   "execution_count": null,
   "id": "d60bd352-a5ae-4f5c-b74a-da90be315917",
   "metadata": {},
   "outputs": [],
   "source": [
    "import pandas as pd\n",
    "\n",
    "# CSVファイルの読み込み\n",
    "file_path = '../data/apartment_for_rent_classified.csv'\n",
    "df = pd.read_csv(file_path)"
   ]
  },
  {
   "cell_type": "code",
   "execution_count": null,
   "id": "356b1b9c-d22f-4a5e-8107-a651ca81743d",
   "metadata": {},
   "outputs": [],
   "source": [
    "# 件数を絞る\n",
    "df = df.iloc[0:10]"
   ]
  },
  {
   "cell_type": "code",
   "execution_count": null,
   "id": "7a0b1f76-38b4-4d3b-ab74-f9da7837e5a3",
   "metadata": {},
   "outputs": [],
   "source": [
    "# インデックスをつけずにファイルを保存する\n",
    "df.to_csv('export_test.csv', index=False)"
   ]
  },
  {
   "cell_type": "code",
   "execution_count": null,
   "id": "5c14e5e7-334f-4682-8c91-b6c5d919ec47",
   "metadata": {},
   "outputs": [],
   "source": [
    "# インデックスをつけてファイルを保存する（どう違うか見てみる）\n",
    "df.to_csv('export_test_with_index.csv')"
   ]
  },
  {
   "cell_type": "code",
   "execution_count": null,
   "id": "a6ecc750-627a-4af0-afa7-ec4b361ec495",
   "metadata": {},
   "outputs": [],
   "source": [
    "# Excelでファイルを保存する\n",
    "df.to_excel('export_text.xlsx', index=False)"
   ]
  },
  {
   "cell_type": "code",
   "execution_count": null,
   "id": "394e37f5-0b3c-4864-9299-9380b939befa",
   "metadata": {},
   "outputs": [],
   "source": [
    "# HTML形式で保存する\n",
    "df.to_html('export_text.html', index=False)"
   ]
  },
  {
   "cell_type": "code",
   "execution_count": null,
   "id": "8e75fca3-2368-4dbf-ae75-9c7fdde43504",
   "metadata": {},
   "outputs": [],
   "source": []
  }
 ],
 "metadata": {
  "kernelspec": {
   "display_name": "Python 3 (ipykernel)",
   "language": "python",
   "name": "python3"
  },
  "language_info": {
   "codemirror_mode": {
    "name": "ipython",
    "version": 3
   },
   "file_extension": ".py",
   "mimetype": "text/x-python",
   "name": "python",
   "nbconvert_exporter": "python",
   "pygments_lexer": "ipython3",
   "version": "3.12.5"
  }
 },
 "nbformat": 4,
 "nbformat_minor": 5
}
