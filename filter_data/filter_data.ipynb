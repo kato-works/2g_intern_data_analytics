{
 "cells": [
  {
   "cell_type": "markdown",
   "id": "b2b2893c-1f06-47cf-ad3d-ff347d09ebc1",
   "metadata": {},
   "source": [
    "# データを検索してみる\n",
    "\n",
    "## 本練習の目的\n",
    "\n",
    "- データの検索を行い、好きなデータを取り出せるようになる\n",
    "- 絞り込んだデータを保存して、ファイルのロード時間を短くする"
   ]
  },
  {
   "cell_type": "code",
   "execution_count": null,
   "id": "978aafe1-f4e7-47a0-81f0-7af9f2ca3290",
   "metadata": {},
   "outputs": [],
   "source": [
    "import pandas as pd\n",
    "\n",
    "# CSVファイルの読み込み\n",
    "file_path = '../data/apartment_for_rent_classified.csv'\n",
    "df = pd.read_csv(file_path)"
   ]
  },
  {
   "cell_type": "code",
   "execution_count": null,
   "id": "0e46a32a-980a-49c0-a220-162309f8699b",
   "metadata": {},
   "outputs": [],
   "source": [
    "# カリフォルニア（CA）のデータのみ抽出する\n",
    "df_ca = df[df['state'] == 'CA']\n",
    "df_ca"
   ]
  },
  {
   "cell_type": "code",
   "execution_count": null,
   "id": "5a635934-303b-4f6b-bfe8-5734faee346e",
   "metadata": {},
   "outputs": [],
   "source": [
    "# 行番号を振りなおす\n",
    "df_ca = df_ca.reset_index(drop=True)\n",
    "df_ca"
   ]
  },
  {
   "cell_type": "code",
   "execution_count": null,
   "id": "8eae8d6a-fc41-4e0e-bdbd-d130755f6584",
   "metadata": {},
   "outputs": [],
   "source": [
    "# 家賃が$1,000-以下の物件を検索する\n",
    "df[df['price'] < 1000]"
   ]
  },
  {
   "cell_type": "code",
   "execution_count": null,
   "id": "61c9a28b-d224-48f8-84b9-e09299bd603d",
   "metadata": {},
   "outputs": [],
   "source": [
    "# カリフォルニアで家賃が$1,000-以下の物件を検索する\n",
    "df[(df['state'] == 'CA') & (df['price'] < 1000)]"
   ]
  },
  {
   "cell_type": "code",
   "execution_count": null,
   "id": "89070a6a-40b7-4354-8842-a6999e907fd1",
   "metadata": {},
   "outputs": [],
   "source": [
    "# 絞り込んだデータに対して、列を指定して保存する\n",
    "df_tmp = df[(df['state'] == 'CA') & (df['price'] < 1000)][['cityname', 'price', 'square_feet', ]]\n",
    "df_tmp.to_csv('filtered_data.csv', index=False)\n",
    "df_tmp"
   ]
  },
  {
   "cell_type": "code",
   "execution_count": null,
   "id": "583ea2c3-701d-4d72-956b-ccf99a38306e",
   "metadata": {},
   "outputs": [],
   "source": [
    "# 読み込んでみる（早いはず）\n",
    "pd.read_csv('filtered_data.csv')"
   ]
  },
  {
   "cell_type": "code",
   "execution_count": null,
   "id": "23b303f8-4b4f-4893-b9a0-e891a7daa11d",
   "metadata": {},
   "outputs": [],
   "source": []
  }
 ],
 "metadata": {
  "kernelspec": {
   "display_name": "Python 3 (ipykernel)",
   "language": "python",
   "name": "python3"
  },
  "language_info": {
   "codemirror_mode": {
    "name": "ipython",
    "version": 3
   },
   "file_extension": ".py",
   "mimetype": "text/x-python",
   "name": "python",
   "nbconvert_exporter": "python",
   "pygments_lexer": "ipython3",
   "version": "3.12.5"
  }
 },
 "nbformat": 4,
 "nbformat_minor": 5
}
