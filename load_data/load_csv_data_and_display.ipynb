{
 "cells": [
  {
   "cell_type": "markdown",
   "id": "380bfaf6-a0fa-4dc9-a779-3f22578a21e4",
   "metadata": {},
   "source": [
    "# CSVデータを読み込んで表示してみよう\n",
    "\n",
    "## 本練習の目的\n",
    "\n",
    "- CSVデータを読み込む\n",
    "- データの表示の仕方に慣れる"
   ]
  },
  {
   "cell_type": "code",
   "execution_count": null,
   "id": "7c949f58-2e34-4289-853c-d760e9473d6f",
   "metadata": {},
   "outputs": [],
   "source": [
    "import pandas as pd\n",
    "\n",
    "# CSVファイルの読み込み\n",
    "file_path = '../data/apartment_for_rent_classified.csv'\n",
    "df = pd.read_csv(file_path)"
   ]
  },
  {
   "cell_type": "code",
   "execution_count": null,
   "id": "f27da2b0-9dec-4a84-8c34-3555f902f24d",
   "metadata": {
    "scrolled": true
   },
   "outputs": [],
   "source": [
    "# テーブル形式で表示する（行列に制約あり\n",
    "df"
   ]
  },
  {
   "cell_type": "code",
   "execution_count": null,
   "id": "59689748-9848-4323-b76d-c077bf56d886",
   "metadata": {},
   "outputs": [],
   "source": [
    "# 先頭10行を表示する\n",
    "df.head(10)"
   ]
  },
  {
   "cell_type": "code",
   "execution_count": null,
   "id": "a4076580-d853-4e62-84e5-e440a64108db",
   "metadata": {},
   "outputs": [],
   "source": [
    "# 列の一覧を取得する\n",
    "df.columns"
   ]
  },
  {
   "cell_type": "code",
   "execution_count": null,
   "id": "fbec73da-3617-4237-af79-a97f509314a3",
   "metadata": {},
   "outputs": [],
   "source": [
    "# データの構造を取得する\n",
    "df.info()"
   ]
  },
  {
   "cell_type": "code",
   "execution_count": null,
   "id": "5ff2a901-960c-4905-a503-3d45f5b416e1",
   "metadata": {},
   "outputs": [],
   "source": [
    "# データの統計情報を表示する\n",
    "df.describe()"
   ]
  },
  {
   "cell_type": "code",
   "execution_count": null,
   "id": "68c09095-5f61-451c-8e4f-1e525583c93e",
   "metadata": {},
   "outputs": [],
   "source": [
    "# 特定の列だけ表示する\n",
    "df[['state', 'price', 'price_type']]"
   ]
  },
  {
   "cell_type": "code",
   "execution_count": null,
   "id": "f19d09ce-a533-4f0e-b1e6-81622abe9ae4",
   "metadata": {},
   "outputs": [],
   "source": [
    "# 1行だけ取り出す\n",
    "df.iloc[10]"
   ]
  },
  {
   "cell_type": "code",
   "execution_count": null,
   "id": "762bb696-983c-46fc-ac87-db9055a4686c",
   "metadata": {},
   "outputs": [],
   "source": []
  }
 ],
 "metadata": {
  "kernelspec": {
   "display_name": "Python 3 (ipykernel)",
   "language": "python",
   "name": "python3"
  },
  "language_info": {
   "codemirror_mode": {
    "name": "ipython",
    "version": 3
   },
   "file_extension": ".py",
   "mimetype": "text/x-python",
   "name": "python",
   "nbconvert_exporter": "python",
   "pygments_lexer": "ipython3",
   "version": "3.12.5"
  }
 },
 "nbformat": 4,
 "nbformat_minor": 5
}
