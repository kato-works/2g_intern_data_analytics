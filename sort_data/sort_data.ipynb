{
 "cells": [
  {
   "cell_type": "markdown",
   "id": "071df3d4-f42f-4be8-8278-8316a25a0809",
   "metadata": {},
   "source": [
    "# データの並べ替えをしてみよう\n",
    "\n",
    "## 本練習の目的\n",
    "\n",
    "- データの並べ替えに慣れる\n",
    "- 上位・下位の取得方法を知る"
   ]
  },
  {
   "cell_type": "code",
   "execution_count": null,
   "id": "53a55df1-757e-4514-ab07-3532fd721d3d",
   "metadata": {},
   "outputs": [],
   "source": [
    "import pandas as pd\n",
    "\n",
    "# CSVファイルの読み込み（クレンジング済みのもの）\n",
    "file_path = '../data/cleansed_apartment_data.csv'\n",
    "df = pd.read_csv(file_path)\n",
    "df = df[['state', 'cityname', 'price', 'square_feet']]"
   ]
  },
  {
   "cell_type": "code",
   "execution_count": null,
   "id": "6f50c47c-f2a2-49a7-83f4-85cb2d8982bb",
   "metadata": {},
   "outputs": [],
   "source": [
    "# ソートしてみる\n",
    "df.sort_values(by='price', ascending=False)"
   ]
  },
  {
   "cell_type": "code",
   "execution_count": null,
   "id": "6de0b4b5-662c-402e-a3b1-4da7fac69105",
   "metadata": {},
   "outputs": [],
   "source": [
    "# 上位10件を表示する\n",
    "df.sort_values(by='price', ascending=False).head(10)"
   ]
  },
  {
   "cell_type": "code",
   "execution_count": null,
   "id": "a7705078-7654-4e6c-8b1f-d07c9b1c8609",
   "metadata": {},
   "outputs": [],
   "source": [
    "# 安い物件を検索してみる\n",
    "df.sort_values(by='price', ascending=True).head(10)"
   ]
  },
  {
   "cell_type": "code",
   "execution_count": null,
   "id": "f9a0719c-fb6e-4037-8b4d-e0a38f4954f9",
   "metadata": {},
   "outputs": [],
   "source": []
  }
 ],
 "metadata": {
  "kernelspec": {
   "display_name": "Python 3 (ipykernel)",
   "language": "python",
   "name": "python3"
  },
  "language_info": {
   "codemirror_mode": {
    "name": "ipython",
    "version": 3
   },
   "file_extension": ".py",
   "mimetype": "text/x-python",
   "name": "python",
   "nbconvert_exporter": "python",
   "pygments_lexer": "ipython3",
   "version": "3.12.5"
  }
 },
 "nbformat": 4,
 "nbformat_minor": 5
}
