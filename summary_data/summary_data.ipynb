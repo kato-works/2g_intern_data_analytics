{
 "cells": [
  {
   "cell_type": "markdown",
   "id": "412094e5-517c-405e-b19e-4858da08f586",
   "metadata": {},
   "source": [
    "# データの集計を行う\n",
    "\n",
    "## 本練習の目的\n",
    "\n",
    "- データの集計を行う\n",
    "- 平均を取得する\n",
    "- 件数を取得する"
   ]
  },
  {
   "cell_type": "code",
   "execution_count": null,
   "id": "a664ca1b-f02a-4d07-80e5-3b545f8ad8e3",
   "metadata": {},
   "outputs": [],
   "source": [
    "import pandas as pd\n",
    "\n",
    "# CSVファイルの読み込み(クレンジング済み)\n",
    "file_path = '../data/cleansed_apartment_data.csv'\n",
    "df = pd.read_csv(file_path)"
   ]
  },
  {
   "cell_type": "code",
   "execution_count": null,
   "id": "f2aeb6bd-2741-4f89-a95b-326926b185a3",
   "metadata": {},
   "outputs": [],
   "source": [
    "# 統計がきれいに出るようになっていることを確認\n",
    "df.describe()"
   ]
  },
  {
   "cell_type": "code",
   "execution_count": null,
   "id": "27f906cd-9504-4c9b-948a-65d426cd0214",
   "metadata": {},
   "outputs": [],
   "source": [
    "# 家賃の平均値を取得する\n",
    "df['price'].mean()"
   ]
  },
  {
   "cell_type": "code",
   "execution_count": null,
   "id": "26a9c7d4-1d1f-442b-978f-0f2d7f2aaf57",
   "metadata": {},
   "outputs": [],
   "source": [
    "# 州別の家賃平均を取得する(広さも同時に)\n",
    "df_mean = df[['state', 'price', 'square_feet']].groupby('state').mean().reset_index()\n",
    "df_mean"
   ]
  },
  {
   "cell_type": "code",
   "execution_count": null,
   "id": "37c77212-f0c6-4613-858e-ed408919b648",
   "metadata": {},
   "outputs": [],
   "source": [
    "# 列名をつけなおす\n",
    "df_mean = df_mean.rename(columns={'price': 'price_mean', 'square_feet': 'square_feet_mean'})\n",
    "df_mean"
   ]
  },
  {
   "cell_type": "code",
   "execution_count": null,
   "id": "b7e617ab-b78c-4941-8d38-089dc52eb558",
   "metadata": {},
   "outputs": [],
   "source": [
    "# 州別のデータ件数を取得する\n",
    "df_count = df[['state', 'price']].groupby('state').count().reset_index()\n",
    "df_count = df_count.rename(columns={'price': 'count'})\n",
    "df_count"
   ]
  },
  {
   "cell_type": "code",
   "execution_count": null,
   "id": "89b22165-8f7b-4ac1-871e-43bf65dc9424",
   "metadata": {},
   "outputs": [],
   "source": [
    "# データを結合する\n",
    "df_summary = df_mean.merge(df_count, on='state')\n",
    "df_summary"
   ]
  },
  {
   "cell_type": "code",
   "execution_count": null,
   "id": "6440a01f-09ca-4263-9df4-bf8e9d05cdbc",
   "metadata": {},
   "outputs": [],
   "source": [
    "df_summary.to_csv('../data/summary_apartment_data.csv')"
   ]
  },
  {
   "cell_type": "code",
   "execution_count": null,
   "id": "c44e8714-3965-4a72-9978-fb7a2c8cb4f0",
   "metadata": {},
   "outputs": [],
   "source": []
  }
 ],
 "metadata": {
  "kernelspec": {
   "display_name": "Python 3 (ipykernel)",
   "language": "python",
   "name": "python3"
  },
  "language_info": {
   "codemirror_mode": {
    "name": "ipython",
    "version": 3
   },
   "file_extension": ".py",
   "mimetype": "text/x-python",
   "name": "python",
   "nbconvert_exporter": "python",
   "pygments_lexer": "ipython3",
   "version": "3.12.5"
  }
 },
 "nbformat": 4,
 "nbformat_minor": 5
}
